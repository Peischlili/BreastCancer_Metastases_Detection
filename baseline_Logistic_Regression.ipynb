{
 "cells": [
  {
   "cell_type": "code",
   "execution_count": 11,
   "metadata": {},
   "outputs": [],
   "source": [
    "import os\n",
    "import pandas as pd\n",
    "import numpy as np\n",
    "import pandas as pd\n",
    "from pathlib import Path\n",
    "import sklearn\n",
    "import sklearn.linear_model\n",
    "import sklearn.metrics\n",
    "import sklearn.model_selection\n"
   ]
  },
  {
   "cell_type": "code",
   "execution_count": 12,
   "metadata": {},
   "outputs": [],
   "source": [
    "# Explore ResNet feature matrices\n",
    "image_folder = \"train_input/resnet_features/\"\n",
    "#image = np.load('/tmp/123.npy', mmap_mode='r')\n",
    "\n",
    "# Function to load folder into arrays and then it returns that same array\n",
    "def loadImages(path):\n",
    "    image_files = sorted([os.path.join(path, file)\n",
    "         for file in os.listdir(path) if file.endswith('.npy')])\n",
    "    return image_files"
   ]
  },
  {
   "cell_type": "code",
   "execution_count": 13,
   "metadata": {},
   "outputs": [
    {
     "data": {
      "text/plain": [
       "279"
      ]
     },
     "execution_count": 13,
     "metadata": {},
     "output_type": "execute_result"
    }
   ],
   "source": [
    "# Check number of images in training set\n",
    "len(loadImages(image_folder))"
   ]
  },
  {
   "cell_type": "code",
   "execution_count": 14,
   "metadata": {},
   "outputs": [],
   "source": [
    "def get_average_features(filenames):\n",
    "    \"\"\"Load and aggregate the resnet features by the average.\n",
    "\n",
    "    Args:\n",
    "        filenames: list of filenames of length `num_patients` corresponding to resnet features\n",
    "\n",
    "    Returns:\n",
    "        features: np.array of mean resnet features, shape `(num_patients, 2048)`\n",
    "    \"\"\"\n",
    "    # Load numpy arrays\n",
    "    features = []\n",
    "    for f in filenames:\n",
    "        patient_features = np.load(f)\n",
    "\n",
    "        # Remove location features (but we could use them?)\n",
    "        patient_features = patient_features[:, 3:]\n",
    "\n",
    "        aggregated_features = np.mean(patient_features, axis=0)\n",
    "        features.append(aggregated_features)\n",
    "\n",
    "    features = np.stack(features, axis=0)\n",
    "    return features"
   ]
  },
  {
   "cell_type": "code",
   "execution_count": 15,
   "metadata": {},
   "outputs": [],
   "source": [
    "# load feature npy folder into arrays and then it returns that same array of strings\n",
    "def loadFiles(path):\n",
    "    feature_files = sorted([os.path.join(path, file)\n",
    "         for file in os.listdir(path) if file.endswith('.npy')])\n",
    "    return feature_files"
   ]
  },
  {
   "cell_type": "code",
   "execution_count": 16,
   "metadata": {},
   "outputs": [],
   "source": [
    "# precise training set and test set relative location\n",
    "train_dir = Path(\"train_input/resnet_features\")\n",
    "test_dir = Path(\"test_input/resnet_features\")\n",
    "\n",
    "train_output_filename = Path(\"training_output.csv\")\n",
    "\n",
    "train_output = pd.read_csv(train_output_filename)"
   ]
  },
  {
   "cell_type": "code",
   "execution_count": 17,
   "metadata": {},
   "outputs": [],
   "source": [
    "# Get filenames for train\n",
    "filenames_train = loadFiles(train_dir)\n",
    "\n",
    "# Get global labels (patient-wise) for train\n",
    "labels_train = train_output[\"Target\"].values\n",
    "\n",
    "# check if the number of observations and labels corresponds\n",
    "assert len(filenames_train) == len(labels_train)"
   ]
  },
  {
   "cell_type": "code",
   "execution_count": 18,
   "metadata": {},
   "outputs": [],
   "source": [
    "# Get the numpy filenames for test\n",
    "filenames_test = loadFiles(test_dir)\n",
    "# ID list without its suffix (ex: \"ID_005\")\n",
    "ids_test = [Path(f).stem for f in filenames_test]"
   ]
  },
  {
   "cell_type": "code",
   "execution_count": 19,
   "metadata": {},
   "outputs": [],
   "source": [
    "# Get the resnet features and aggregate them by the average\n",
    "features_train = get_average_features(filenames_train)\n",
    "features_test = get_average_features(filenames_test)"
   ]
  },
  {
   "cell_type": "code",
   "execution_count": 21,
   "metadata": {},
   "outputs": [
    {
     "name": "stderr",
     "output_type": "stream",
     "text": [
      "[Parallel(n_jobs=1)]: Using backend SequentialBackend with 1 concurrent workers.\n",
      "[Parallel(n_jobs=1)]: Done  20 out of  20 | elapsed:    3.4s finished\n",
      "[Parallel(n_jobs=1)]: Using backend SequentialBackend with 1 concurrent workers.\n",
      "[Parallel(n_jobs=1)]: Done  20 out of  20 | elapsed:    3.6s finished\n",
      "[Parallel(n_jobs=1)]: Using backend SequentialBackend with 1 concurrent workers.\n",
      "[Parallel(n_jobs=1)]: Done  20 out of  20 | elapsed:    3.9s finished\n",
      "[Parallel(n_jobs=1)]: Using backend SequentialBackend with 1 concurrent workers.\n",
      "[Parallel(n_jobs=1)]: Done  20 out of  20 | elapsed:    3.5s finished\n",
      "[Parallel(n_jobs=1)]: Using backend SequentialBackend with 1 concurrent workers.\n",
      "[Parallel(n_jobs=1)]: Done  20 out of  20 | elapsed:    3.3s finished\n",
      "[Parallel(n_jobs=1)]: Using backend SequentialBackend with 1 concurrent workers.\n",
      "[Parallel(n_jobs=1)]: Done  20 out of  20 | elapsed:    3.8s finished\n",
      "[Parallel(n_jobs=1)]: Using backend SequentialBackend with 1 concurrent workers.\n",
      "[Parallel(n_jobs=1)]: Done  20 out of  20 | elapsed:    3.3s finished\n",
      "[Parallel(n_jobs=1)]: Using backend SequentialBackend with 1 concurrent workers.\n",
      "[Parallel(n_jobs=1)]: Done  20 out of  20 | elapsed:    3.2s finished\n",
      "[Parallel(n_jobs=1)]: Using backend SequentialBackend with 1 concurrent workers.\n",
      "[Parallel(n_jobs=1)]: Done  20 out of  20 | elapsed:    3.4s finished\n",
      "[Parallel(n_jobs=1)]: Using backend SequentialBackend with 1 concurrent workers.\n"
     ]
    },
    {
     "name": "stdout",
     "output_type": "stream",
     "text": [
      "Predicting weak labels by mean resnet\n",
      "AUC: mean 0.7345138888888889, std 0.13709738684576842\n",
      "Predicting weak labels by mean resnet\n",
      "Accuracy: mean 0.6838736263736263, std 0.11321731891801153\n"
     ]
    },
    {
     "name": "stderr",
     "output_type": "stream",
     "text": [
      "[Parallel(n_jobs=1)]: Done  20 out of  20 | elapsed:    3.3s finished\n"
     ]
    }
   ],
   "source": [
    "# Use the average resnet features to predict the labels\n",
    "\n",
    "# number of runs for cross-validation\n",
    "num_runs = 10\n",
    "# number of splits for cross-validation\n",
    "num_splits = 20\n",
    "\n",
    "# Multiple cross validations on the training set\n",
    "aucs = []\n",
    "accuracies = []\n",
    "\n",
    "for seed in range(num_runs):\n",
    "    # Use logistic regression with L2 penalty\n",
    "    estimator = sklearn.linear_model.LogisticRegression(penalty=\"l2\", C=1.0, solver=\"liblinear\")\n",
    "\n",
    "    cv = sklearn.model_selection.StratifiedKFold(n_splits=num_splits, shuffle=True, random_state=seed)\n",
    "\n",
    "    # Cross validation on the training set\n",
    "    auc = sklearn.model_selection.cross_val_score(estimator, X=features_train, y=labels_train,\n",
    "                                                  cv=cv, scoring=\"roc_auc\", verbose=0)\n",
    "    accuracy = sklearn.model_selection.cross_val_score(estimator, X=features_train, y=labels_train,\n",
    "                                                  cv=cv, scoring=\"accuracy\", verbose=1)\n",
    "\n",
    "    aucs.append(auc)\n",
    "    accuracies.append(accuracy)\n",
    "\n",
    "aucs = np.array(aucs)\n",
    "accuracies = np.array(accuracies)\n",
    "\n",
    "print(\"Predicting weak labels by mean resnet\")\n",
    "print(\"AUC: mean {}, std {}\".format(aucs.mean(), aucs.std()))\n",
    "\n",
    "print(\"Predicting weak labels by mean resnet\")\n",
    "print(\"Accuracy: mean {}, std {}\".format(accuracies.mean(), accuracies.std()))"
   ]
  },
  {
   "cell_type": "code",
   "execution_count": null,
   "metadata": {},
   "outputs": [],
   "source": [
    "# Prediction on the test set\n",
    "\n",
    "# Train a final model on the full training set\n",
    "estimator = sklearn.linear_model.LogisticRegression(penalty=\"l2\", C=1.0, solver=\"liblinear\")\n",
    "estimator.fit(features_train, labels_train)\n",
    "\n",
    "preds_test = estimator.predict_proba(features_test)[:, 1]\n",
    "\n",
    "# Check that predictions are in [0, 1]\n",
    "assert np.max(preds_test) <= 1.0\n",
    "assert np.min(preds_test) >= 0.0\n",
    "\n",
    "# -------------------------------------------------------------------------\n",
    "# Write the predictions in a csv file, to export them in the suitable format\n",
    "# to the data challenge platform\n",
    "ids_number_test = [i.split(\"ID_\")[1] for i in ids_test]\n",
    "test_output = pd.DataFrame({\"ID\": ids_number_test, \"Target\": preds_test})\n",
    "test_output.set_index(\"ID\", inplace=True)\n",
    "test_output.to_csv(\"predictions/preds_test_baseline.csv\")\n"
   ]
  },
  {
   "cell_type": "code",
   "execution_count": null,
   "metadata": {},
   "outputs": [],
   "source": []
  }
 ],
 "metadata": {
  "kernelspec": {
   "display_name": "Python 3",
   "language": "python",
   "name": "python3"
  },
  "language_info": {
   "codemirror_mode": {
    "name": "ipython",
    "version": 3
   },
   "file_extension": ".py",
   "mimetype": "text/x-python",
   "name": "python",
   "nbconvert_exporter": "python",
   "pygments_lexer": "ipython3",
   "version": "3.8.1"
  }
 },
 "nbformat": 4,
 "nbformat_minor": 4
}
